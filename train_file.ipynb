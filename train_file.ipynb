{
 "cells": [
  {
   "cell_type": "markdown",
   "metadata": {},
   "source": [
    "# Importing dataset"
   ]
  },
  {
   "cell_type": "code",
   "execution_count": 1,
   "metadata": {
    "scrolled": true
   },
   "outputs": [
    {
     "name": "stderr",
     "output_type": "stream",
     "text": [
      "[nltk_data] Downloading package stopwords to\n",
      "[nltk_data]     C:\\Users\\91738\\AppData\\Roaming\\nltk_data...\n",
      "[nltk_data]   Package stopwords is already up-to-date!\n"
     ]
    }
   ],
   "source": [
    "import pandas as pd\n",
    "import matplotlib.pyplot as plt\n",
    "import pickle\n",
    "#cleaning text data\n",
    "import nltk\n",
    "import numpy as np\n",
    "import re #regular expressions(rmeoving fullstops etc)\n",
    "nltk.download('stopwords')\n",
    "from nltk.corpus import stopwords\n",
    "from nltk.stem.porter import PorterStemmer"
   ]
  },
  {
   "cell_type": "code",
   "execution_count": 2,
   "metadata": {},
   "outputs": [
    {
     "data": {
      "text/html": [
       "<div>\n",
       "<style scoped>\n",
       "    .dataframe tbody tr th:only-of-type {\n",
       "        vertical-align: middle;\n",
       "    }\n",
       "\n",
       "    .dataframe tbody tr th {\n",
       "        vertical-align: top;\n",
       "    }\n",
       "\n",
       "    .dataframe thead th {\n",
       "        text-align: right;\n",
       "    }\n",
       "</style>\n",
       "<table border=\"1\" class=\"dataframe\">\n",
       "  <thead>\n",
       "    <tr style=\"text-align: right;\">\n",
       "      <th></th>\n",
       "      <th>sentiment</th>\n",
       "      <th>text</th>\n",
       "    </tr>\n",
       "  </thead>\n",
       "  <tbody>\n",
       "    <tr>\n",
       "      <th>0</th>\n",
       "      <td>0</td>\n",
       "      <td>is so sad for my APL frie...</td>\n",
       "    </tr>\n",
       "    <tr>\n",
       "      <th>1</th>\n",
       "      <td>0</td>\n",
       "      <td>I missed the New Moon trail...</td>\n",
       "    </tr>\n",
       "    <tr>\n",
       "      <th>2</th>\n",
       "      <td>1</td>\n",
       "      <td>omg its already 7:30 :O</td>\n",
       "    </tr>\n",
       "    <tr>\n",
       "      <th>3</th>\n",
       "      <td>0</td>\n",
       "      <td>.. Omgaga. Im sooo  im gunna CRy. I'...</td>\n",
       "    </tr>\n",
       "    <tr>\n",
       "      <th>4</th>\n",
       "      <td>0</td>\n",
       "      <td>i think mi bf is cheating on me!!!   ...</td>\n",
       "    </tr>\n",
       "    <tr>\n",
       "      <th>...</th>\n",
       "      <td>...</td>\n",
       "      <td>...</td>\n",
       "    </tr>\n",
       "    <tr>\n",
       "      <th>8995</th>\n",
       "      <td>0</td>\n",
       "      <td>&amp;quot;#WikiLeaks is overloaded by global inter...</td>\n",
       "    </tr>\n",
       "    <tr>\n",
       "      <th>8996</th>\n",
       "      <td>0</td>\n",
       "      <td>&amp;quot;&amp;lt; monica&amp;gt; tenk pÃÂ¥ Neophos, da &amp;...</td>\n",
       "    </tr>\n",
       "    <tr>\n",
       "      <th>8997</th>\n",
       "      <td>0</td>\n",
       "      <td>&amp;quot;&amp;quot;Doing some work&amp;quot;&amp;quot; Facebo...</td>\n",
       "    </tr>\n",
       "    <tr>\n",
       "      <th>8998</th>\n",
       "      <td>1</td>\n",
       "      <td>&amp;quot;&amp;quot;I'm really glad you're in my life....</td>\n",
       "    </tr>\n",
       "    <tr>\n",
       "      <th>8999</th>\n",
       "      <td>1</td>\n",
       "      <td>&amp;quot;...begging, begging you ooh ooh ooh...&amp;q...</td>\n",
       "    </tr>\n",
       "  </tbody>\n",
       "</table>\n",
       "<p>9000 rows × 2 columns</p>\n",
       "</div>"
      ],
      "text/plain": [
       "      sentiment                                               text\n",
       "0             0                       is so sad for my APL frie...\n",
       "1             0                     I missed the New Moon trail...\n",
       "2             1                            omg its already 7:30 :O\n",
       "3             0            .. Omgaga. Im sooo  im gunna CRy. I'...\n",
       "4             0           i think mi bf is cheating on me!!!   ...\n",
       "...         ...                                                ...\n",
       "8995          0  &quot;#WikiLeaks is overloaded by global inter...\n",
       "8996          0  &quot;&lt; monica&gt; tenk pÃÂ¥ Neophos, da &...\n",
       "8997          0  &quot;&quot;Doing some work&quot;&quot; Facebo...\n",
       "8998          1  &quot;&quot;I'm really glad you're in my life....\n",
       "8999          1  &quot;...begging, begging you ooh ooh ooh...&q...\n",
       "\n",
       "[9000 rows x 2 columns]"
      ]
     },
     "execution_count": 2,
     "metadata": {},
     "output_type": "execute_result"
    }
   ],
   "source": [
    "dataset= pd.read_csv('train.csv',encoding = \"ISO-8859-1\",nrows=9000)\n",
    "dataset"
   ]
  },
  {
   "cell_type": "markdown",
   "metadata": {},
   "source": [
    "# removing punctuation and number"
   ]
  },
  {
   "cell_type": "code",
   "execution_count": 3,
   "metadata": {},
   "outputs": [],
   "source": [
    "def preprocess_tweet(tweet):\n",
    "    #Preprocess the text in a single tweet\n",
    "    #arguments: tweet = a single tweet in form of string \n",
    "    #convert the tweet to lower case\n",
    "    tweet.lower()\n",
    "    #convert all urls to sting \"URL\"\n",
    "    tweet= re.sub('[^a-zA-Z]',' ',tweet)\n",
    "    tweet = re.sub('((www\\.[^\\s]+)|(https?://[^\\s]+))','URL',tweet)\n",
    "    #convert all @username to \"AT_USER\"\n",
    "    tweet = re.sub('@[^\\s]+','AT_USER', tweet)\n",
    "    #correct all multiple white spaces to a single white space\n",
    "    tweet = re.sub('[\\s]+', ' ', tweet)\n",
    "    #convert \"#topic\" to just \"topic\"\n",
    "    tweet = re.sub(r'#([^\\s]+)', r'\\1', tweet)\n",
    "    return tweet\n",
    "dataset['text'] = dataset['text'].apply(preprocess_tweet)"
   ]
  },
  {
   "cell_type": "code",
   "execution_count": 4,
   "metadata": {},
   "outputs": [],
   "source": [
    "c=[]\n",
    "for i in range(0,9000):\n",
    "    review1= re.sub('[^a-zA-Z]',' ',dataset['text'].iloc[i])\n",
    "    #cover it as lower case\n",
    "    review1=review1.split()#splits words and forms as list\n",
    "    ps= PorterStemmer()\n",
    "    review1=[ps.stem(word) for word in review1 if not word in set(stopwords.words('english'))]\n",
    "    review1=' '.join(review1)\n",
    "    c.append(review1)\n",
    "#print(c)"
   ]
  },
  {
   "cell_type": "code",
   "execution_count": 5,
   "metadata": {},
   "outputs": [],
   "source": [
    "#creating a bag of words model\n",
    "\n",
    "from  sklearn.feature_extraction.text import CountVectorizer\n",
    "cv= CountVectorizer(max_features=15000)\n",
    "x= cv.fit_transform(c).toarray()\n",
    "y= dataset.iloc[:,0:1].values"
   ]
  },
  {
   "cell_type": "code",
   "execution_count": 6,
   "metadata": {},
   "outputs": [],
   "source": [
    "from sklearn.model_selection import train_test_split\n",
    "x_train,x_test,y_train,y_test=train_test_split(x,y,test_size=0.3,random_state=0)\n",
    "pickle.dump(cv.vocabulary_,open(\"cf24.pkl\",\"wb\"))"
   ]
  },
  {
   "cell_type": "markdown",
   "metadata": {},
   "source": [
    "# importing libraries for the model"
   ]
  },
  {
   "cell_type": "code",
   "execution_count": 7,
   "metadata": {
    "scrolled": true
   },
   "outputs": [
    {
     "name": "stderr",
     "output_type": "stream",
     "text": [
      "Using TensorFlow backend.\n",
      "C:\\Users\\91738\\anaconda3\\lib\\site-packages\\tensorflow\\python\\framework\\dtypes.py:516: FutureWarning: Passing (type, 1) or '1type' as a synonym of type is deprecated; in a future version of numpy, it will be understood as (type, (1,)) / '(1,)type'.\n",
      "  _np_qint8 = np.dtype([(\"qint8\", np.int8, 1)])\n",
      "C:\\Users\\91738\\anaconda3\\lib\\site-packages\\tensorflow\\python\\framework\\dtypes.py:517: FutureWarning: Passing (type, 1) or '1type' as a synonym of type is deprecated; in a future version of numpy, it will be understood as (type, (1,)) / '(1,)type'.\n",
      "  _np_quint8 = np.dtype([(\"quint8\", np.uint8, 1)])\n",
      "C:\\Users\\91738\\anaconda3\\lib\\site-packages\\tensorflow\\python\\framework\\dtypes.py:518: FutureWarning: Passing (type, 1) or '1type' as a synonym of type is deprecated; in a future version of numpy, it will be understood as (type, (1,)) / '(1,)type'.\n",
      "  _np_qint16 = np.dtype([(\"qint16\", np.int16, 1)])\n",
      "C:\\Users\\91738\\anaconda3\\lib\\site-packages\\tensorflow\\python\\framework\\dtypes.py:519: FutureWarning: Passing (type, 1) or '1type' as a synonym of type is deprecated; in a future version of numpy, it will be understood as (type, (1,)) / '(1,)type'.\n",
      "  _np_quint16 = np.dtype([(\"quint16\", np.uint16, 1)])\n",
      "C:\\Users\\91738\\anaconda3\\lib\\site-packages\\tensorflow\\python\\framework\\dtypes.py:520: FutureWarning: Passing (type, 1) or '1type' as a synonym of type is deprecated; in a future version of numpy, it will be understood as (type, (1,)) / '(1,)type'.\n",
      "  _np_qint32 = np.dtype([(\"qint32\", np.int32, 1)])\n",
      "C:\\Users\\91738\\anaconda3\\lib\\site-packages\\tensorflow\\python\\framework\\dtypes.py:525: FutureWarning: Passing (type, 1) or '1type' as a synonym of type is deprecated; in a future version of numpy, it will be understood as (type, (1,)) / '(1,)type'.\n",
      "  np_resource = np.dtype([(\"resource\", np.ubyte, 1)])\n",
      "C:\\Users\\91738\\anaconda3\\lib\\site-packages\\tensorboard\\compat\\tensorflow_stub\\dtypes.py:541: FutureWarning: Passing (type, 1) or '1type' as a synonym of type is deprecated; in a future version of numpy, it will be understood as (type, (1,)) / '(1,)type'.\n",
      "  _np_qint8 = np.dtype([(\"qint8\", np.int8, 1)])\n",
      "C:\\Users\\91738\\anaconda3\\lib\\site-packages\\tensorboard\\compat\\tensorflow_stub\\dtypes.py:542: FutureWarning: Passing (type, 1) or '1type' as a synonym of type is deprecated; in a future version of numpy, it will be understood as (type, (1,)) / '(1,)type'.\n",
      "  _np_quint8 = np.dtype([(\"quint8\", np.uint8, 1)])\n",
      "C:\\Users\\91738\\anaconda3\\lib\\site-packages\\tensorboard\\compat\\tensorflow_stub\\dtypes.py:543: FutureWarning: Passing (type, 1) or '1type' as a synonym of type is deprecated; in a future version of numpy, it will be understood as (type, (1,)) / '(1,)type'.\n",
      "  _np_qint16 = np.dtype([(\"qint16\", np.int16, 1)])\n",
      "C:\\Users\\91738\\anaconda3\\lib\\site-packages\\tensorboard\\compat\\tensorflow_stub\\dtypes.py:544: FutureWarning: Passing (type, 1) or '1type' as a synonym of type is deprecated; in a future version of numpy, it will be understood as (type, (1,)) / '(1,)type'.\n",
      "  _np_quint16 = np.dtype([(\"quint16\", np.uint16, 1)])\n",
      "C:\\Users\\91738\\anaconda3\\lib\\site-packages\\tensorboard\\compat\\tensorflow_stub\\dtypes.py:545: FutureWarning: Passing (type, 1) or '1type' as a synonym of type is deprecated; in a future version of numpy, it will be understood as (type, (1,)) / '(1,)type'.\n",
      "  _np_qint32 = np.dtype([(\"qint32\", np.int32, 1)])\n",
      "C:\\Users\\91738\\anaconda3\\lib\\site-packages\\tensorboard\\compat\\tensorflow_stub\\dtypes.py:550: FutureWarning: Passing (type, 1) or '1type' as a synonym of type is deprecated; in a future version of numpy, it will be understood as (type, (1,)) / '(1,)type'.\n",
      "  np_resource = np.dtype([(\"resource\", np.ubyte, 1)])\n"
     ]
    }
   ],
   "source": [
    "from keras.models import Sequential\n",
    "from keras.layers import Dense\n",
    "model=Sequential()"
   ]
  },
  {
   "cell_type": "markdown",
   "metadata": {},
   "source": [
    "# Adding Input layer"
   ]
  },
  {
   "cell_type": "code",
   "execution_count": 8,
   "metadata": {},
   "outputs": [
    {
     "name": "stderr",
     "output_type": "stream",
     "text": [
      "C:\\Users\\91738\\anaconda3\\lib\\site-packages\\ipykernel_launcher.py:1: UserWarning: Update your `Dense` call to the Keras 2 API: `Dense(input_dim=12923, activation=\"sigmoid\", units=50, kernel_initializer=\"random_uniform\")`\n",
      "  \"\"\"Entry point for launching an IPython kernel.\n"
     ]
    }
   ],
   "source": [
    "model.add(Dense(input_dim=x.shape[1],init=\"random_uniform\",activation=\"sigmoid\",output_dim=50))\n"
   ]
  },
  {
   "cell_type": "markdown",
   "metadata": {},
   "source": [
    "# Adding hidden layer"
   ]
  },
  {
   "cell_type": "code",
   "execution_count": 9,
   "metadata": {},
   "outputs": [
    {
     "name": "stderr",
     "output_type": "stream",
     "text": [
      "C:\\Users\\91738\\anaconda3\\lib\\site-packages\\ipykernel_launcher.py:1: UserWarning: Update your `Dense` call to the Keras 2 API: `Dense(activation=\"sigmoid\", units=10, kernel_initializer=\"random_uniform\")`\n",
      "  \"\"\"Entry point for launching an IPython kernel.\n"
     ]
    }
   ],
   "source": [
    "model.add(Dense(init=\"random_uniform\",activation=\"sigmoid\",output_dim=10))\n"
   ]
  },
  {
   "cell_type": "markdown",
   "metadata": {},
   "source": [
    "# Adding output layer"
   ]
  },
  {
   "cell_type": "code",
   "execution_count": 10,
   "metadata": {},
   "outputs": [
    {
     "name": "stderr",
     "output_type": "stream",
     "text": [
      "C:\\Users\\91738\\anaconda3\\lib\\site-packages\\ipykernel_launcher.py:1: UserWarning: Update your `Dense` call to the Keras 2 API: `Dense(activation=\"sigmoid\", units=1, kernel_initializer=\"random_uniform\")`\n",
      "  \"\"\"Entry point for launching an IPython kernel.\n"
     ]
    }
   ],
   "source": [
    "model.add(Dense(output_dim=1,init='random_uniform',activation='sigmoid'))\n"
   ]
  },
  {
   "cell_type": "markdown",
   "metadata": {},
   "source": [
    "# configure the learning process"
   ]
  },
  {
   "cell_type": "code",
   "execution_count": 11,
   "metadata": {},
   "outputs": [
    {
     "name": "stdout",
     "output_type": "stream",
     "text": [
      "WARNING:tensorflow:From C:\\Users\\91738\\anaconda3\\lib\\site-packages\\tensorflow\\python\\ops\\nn_impl.py:180: add_dispatch_support.<locals>.wrapper (from tensorflow.python.ops.array_ops) is deprecated and will be removed in a future version.\n",
      "Instructions for updating:\n",
      "Use tf.where in 2.0, which has the same broadcast rule as np.where\n"
     ]
    }
   ],
   "source": [
    "model.compile(optimizer='adam',loss='binary_crossentropy',metrics=['accuracy'])\n",
    "#optimizing model"
   ]
  },
  {
   "cell_type": "code",
   "execution_count": 12,
   "metadata": {
    "scrolled": false
   },
   "outputs": [
    {
     "name": "stdout",
     "output_type": "stream",
     "text": [
      "WARNING:tensorflow:From C:\\Users\\91738\\anaconda3\\lib\\site-packages\\keras\\backend\\tensorflow_backend.py:422: The name tf.global_variables is deprecated. Please use tf.compat.v1.global_variables instead.\n",
      "\n",
      "Epoch 1/50\n",
      "6300/6300 [==============================] - 1s 218us/step - loss: 0.6874 - accuracy: 0.5473\n",
      "Epoch 2/50\n",
      "6300/6300 [==============================] - 1s 173us/step - loss: 0.6719 - accuracy: 0.6048\n",
      "Epoch 3/50\n",
      "6300/6300 [==============================] - 1s 171us/step - loss: 0.6691 - accuracy: 0.6048\n",
      "Epoch 4/50\n",
      "6300/6300 [==============================] - 1s 173us/step - loss: 0.6673 - accuracy: 0.6048\n",
      "Epoch 5/50\n",
      "6300/6300 [==============================] - 1s 173us/step - loss: 0.6644 - accuracy: 0.6048\n",
      "Epoch 6/50\n",
      "6300/6300 [==============================] - 1s 174us/step - loss: 0.6596 - accuracy: 0.6048\n",
      "Epoch 7/50\n",
      "6300/6300 [==============================] - 1s 181us/step - loss: 0.6515 - accuracy: 0.6048\n",
      "Epoch 8/50\n",
      "6300/6300 [==============================] - 1s 172us/step - loss: 0.6376 - accuracy: 0.6048\n",
      "Epoch 9/50\n",
      "6300/6300 [==============================] - 1s 175us/step - loss: 0.6144 - accuracy: 0.6156\n",
      "Epoch 10/50\n",
      "6300/6300 [==============================] - 1s 173us/step - loss: 0.5765 - accuracy: 0.6862\n",
      "Epoch 11/50\n",
      "6300/6300 [==============================] - 1s 171us/step - loss: 0.5213 - accuracy: 0.7756\n",
      "Epoch 12/50\n",
      "6300/6300 [==============================] - 1s 177us/step - loss: 0.4563 - accuracy: 0.8363\n",
      "Epoch 13/50\n",
      "6300/6300 [==============================] - 1s 183us/step - loss: 0.3961 - accuracy: 0.8654\n",
      "Epoch 14/50\n",
      "6300/6300 [==============================] - 1s 174us/step - loss: 0.3458 - accuracy: 0.8892\n",
      "Epoch 15/50\n",
      "6300/6300 [==============================] - 1s 174us/step - loss: 0.3045 - accuracy: 0.9062\n",
      "Epoch 16/50\n",
      "6300/6300 [==============================] - 1s 173us/step - loss: 0.2708 - accuracy: 0.9152\n",
      "Epoch 17/50\n",
      "6300/6300 [==============================] - 1s 176us/step - loss: 0.2428 - accuracy: 0.9283\n",
      "Epoch 18/50\n",
      "6300/6300 [==============================] - 1s 174us/step - loss: 0.2192 - accuracy: 0.9383\n",
      "Epoch 19/50\n",
      "6300/6300 [==============================] - 1s 173us/step - loss: 0.1992 - accuracy: 0.9468\n",
      "Epoch 20/50\n",
      "6300/6300 [==============================] - 1s 171us/step - loss: 0.1823 - accuracy: 0.9517\n",
      "Epoch 21/50\n",
      "6300/6300 [==============================] - 1s 172us/step - loss: 0.1675 - accuracy: 0.9552\n",
      "Epoch 22/50\n",
      "6300/6300 [==============================] - 1s 173us/step - loss: 0.1543 - accuracy: 0.9605\n",
      "Epoch 23/50\n",
      "6300/6300 [==============================] - 1s 175us/step - loss: 0.1430 - accuracy: 0.9633\n",
      "Epoch 24/50\n",
      "6300/6300 [==============================] - 1s 174us/step - loss: 0.1327 - accuracy: 0.9662\n",
      "Epoch 25/50\n",
      "6300/6300 [==============================] - 1s 170us/step - loss: 0.1237 - accuracy: 0.9681\n",
      "Epoch 26/50\n",
      "6300/6300 [==============================] - 1s 183us/step - loss: 0.1162 - accuracy: 0.9711\n",
      "Epoch 27/50\n",
      "6300/6300 [==============================] - 1s 172us/step - loss: 0.1087 - accuracy: 0.9737\n",
      "Epoch 28/50\n",
      "6300/6300 [==============================] - 1s 174us/step - loss: 0.1025 - accuracy: 0.9762\n",
      "Epoch 29/50\n",
      "6300/6300 [==============================] - 1s 172us/step - loss: 0.0968 - accuracy: 0.9773\n",
      "Epoch 30/50\n",
      "6300/6300 [==============================] - 1s 172us/step - loss: 0.0916 - accuracy: 0.9792\n",
      "Epoch 31/50\n",
      "6300/6300 [==============================] - 1s 172us/step - loss: 0.0870 - accuracy: 0.9786\n",
      "Epoch 32/50\n",
      "6300/6300 [==============================] - 1s 174us/step - loss: 0.0828 - accuracy: 0.9798\n",
      "Epoch 33/50\n",
      "6300/6300 [==============================] - 1s 170us/step - loss: 0.0789 - accuracy: 0.9811\n",
      "Epoch 34/50\n",
      "6300/6300 [==============================] - 1s 175us/step - loss: 0.0755 - accuracy: 0.9819\n",
      "Epoch 35/50\n",
      "6300/6300 [==============================] - 1s 173us/step - loss: 0.0721 - accuracy: 0.9824\n",
      "Epoch 36/50\n",
      "6300/6300 [==============================] - 1s 175us/step - loss: 0.0690 - accuracy: 0.9835\n",
      "Epoch 37/50\n",
      "6300/6300 [==============================] - 1s 172us/step - loss: 0.0665 - accuracy: 0.9835\n",
      "Epoch 38/50\n",
      "6300/6300 [==============================] - 1s 176us/step - loss: 0.0637 - accuracy: 0.9843\n",
      "Epoch 39/50\n",
      "6300/6300 [==============================] - 1s 171us/step - loss: 0.0614 - accuracy: 0.9857\n",
      "Epoch 40/50\n",
      "6300/6300 [==============================] - 1s 173us/step - loss: 0.0591 - accuracy: 0.9856\n",
      "Epoch 41/50\n",
      "6300/6300 [==============================] - 1s 174us/step - loss: 0.0568 - accuracy: 0.9871\n",
      "Epoch 42/50\n",
      "6300/6300 [==============================] - 1s 173us/step - loss: 0.0550 - accuracy: 0.98730s - loss: 0.0546 - \n",
      "Epoch 43/50\n",
      "6300/6300 [==============================] - 1s 173us/step - loss: 0.0532 - accuracy: 0.9875\n",
      "Epoch 44/50\n",
      "6300/6300 [==============================] - 1s 174us/step - loss: 0.0514 - accuracy: 0.9883\n",
      "Epoch 45/50\n",
      "6300/6300 [==============================] - 1s 177us/step - loss: 0.0495 - accuracy: 0.9884\n",
      "Epoch 46/50\n",
      "6300/6300 [==============================] - 1s 180us/step - loss: 0.0478 - accuracy: 0.9887\n",
      "Epoch 47/50\n",
      "6300/6300 [==============================] - 1s 179us/step - loss: 0.0463 - accuracy: 0.9892\n",
      "Epoch 48/50\n",
      "6300/6300 [==============================] - 1s 177us/step - loss: 0.0449 - accuracy: 0.9897\n",
      "Epoch 49/50\n",
      "6300/6300 [==============================] - 1s 177us/step - loss: 0.0436 - accuracy: 0.9902\n",
      "Epoch 50/50\n",
      "6300/6300 [==============================] - 1s 178us/step - loss: 0.0421 - accuracy: 0.9900\n"
     ]
    }
   ],
   "source": [
    "model.fit(x_train,y_train,epochs=50,batch_size=130)\n",
    "y_pred=model.predict(x_test)\n",
    "#print(x_test)\n",
    "y_pred=(y_pred>0.5)"
   ]
  }
 ],
 "metadata": {
  "kernelspec": {
   "display_name": "Python 3",
   "language": "python",
   "name": "python3"
  },
  "language_info": {
   "codemirror_mode": {
    "name": "ipython",
    "version": 3
   },
   "file_extension": ".py",
   "mimetype": "text/x-python",
   "name": "python",
   "nbconvert_exporter": "python",
   "pygments_lexer": "ipython3",
   "version": "3.6.10"
  }
 },
 "nbformat": 4,
 "nbformat_minor": 4
}
